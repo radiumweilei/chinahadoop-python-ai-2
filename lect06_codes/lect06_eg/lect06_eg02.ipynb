{
 "cells": [
  {
   "cell_type": "markdown",
   "metadata": {},
   "source": [
    "# 常用的图像特征"
   ]
  },
  {
   "cell_type": "code",
   "execution_count": 1,
   "metadata": {
    "collapsed": true
   },
   "outputs": [],
   "source": [
    "import cv2\n",
    "import numpy as np"
   ]
  },
  {
   "cell_type": "markdown",
   "metadata": {},
   "source": [
    "## 1. 颜色特征"
   ]
  },
  {
   "cell_type": "code",
   "execution_count": 2,
   "metadata": {
    "collapsed": false
   },
   "outputs": [
    {
     "name": "stdout",
     "output_type": "stream",
     "text": [
      "[  781  1723  3971  6759  7224  7130  7160  6969  6645  6664  6927  6522\n",
      "  6503  6689  6714  6260  6840  5591  5030  4924  4896  6715  9522 10685\n",
      "  9222  5643  3316  2431  2190  1800  1779  1782  1628  1725  1272  1182\n",
      "   971   655   463   326   239   197   191   156   429   659   221    67\n",
      "    18    10]\n",
      "[  0.     5.06  10.12  15.18  20.24  25.3   30.36  35.42  40.48  45.54\n",
      "  50.6   55.66  60.72  65.78  70.84  75.9   80.96  86.02  91.08  96.14\n",
      " 101.2  106.26 111.32 116.38 121.44 126.5  131.56 136.62 141.68 146.74\n",
      " 151.8  156.86 161.92 166.98 172.04 177.1  182.16 187.22 192.28 197.34\n",
      " 202.4  207.46 212.52 217.58 222.64 227.7  232.76 237.82 242.88 247.94\n",
      " 253.  ]\n"
     ]
    }
   ],
   "source": [
    "img_gray_data = cv2.imread('./images/messi.jpg', cv2.IMREAD_GRAYSCALE)\n",
    "\n",
    "hist, bins = np.histogram(img_gray_data.ravel(), bins=50)\n",
    "\n",
    "print(hist)\n",
    "print(bins)"
   ]
  },
  {
   "cell_type": "markdown",
   "metadata": {},
   "source": [
    "## 2. [SIFT 特征](http://www.aishack.in/tutorials/sift-scale-invariant-feature-transform-introduction/)"
   ]
  },
  {
   "cell_type": "code",
   "execution_count": 3,
   "metadata": {
    "collapsed": true
   },
   "outputs": [],
   "source": [
    "img = cv2.imread('./images/messi.jpg', cv2.IMREAD_GRAYSCALE)\n",
    "sift = cv2.xfeatures2d.SIFT_create()\n",
    "kp, desc = sift.detectAndCompute(img, None)\n",
    "img_w_kp = cv2.drawKeypoints(img, kp, None, flags=cv2.DRAW_MATCHES_FLAGS_DRAW_RICH_KEYPOINTS)\n",
    "cv2.imshow('img_w_kp', img_w_kp)\n",
    "cv2.waitKey(0)\n",
    "cv2.destroyAllWindows()"
   ]
  },
  {
   "cell_type": "code",
   "execution_count": 4,
   "metadata": {
    "collapsed": false
   },
   "outputs": [
    {
     "data": {
      "text/plain": [
       "(638, 128)"
      ]
     },
     "execution_count": 4,
     "metadata": {},
     "output_type": "execute_result"
    }
   ],
   "source": [
    "desc.shape"
   ]
  },
  {
   "cell_type": "code",
   "execution_count": 5,
   "metadata": {
    "collapsed": false
   },
   "outputs": [
    {
     "name": "stdout",
     "output_type": "stream",
     "text": [
      "该图像共有638个特征点，每个特征点对应的特征维度是128\n"
     ]
    }
   ],
   "source": [
    "print('该图像共有{}个特征点，每个特征点对应的特征维度是{}'.format(desc.shape[0], desc.shape[1]))"
   ]
  },
  {
   "cell_type": "markdown",
   "metadata": {},
   "source": [
    "## 3. [HOG 特征](https://www.learnopencv.com/histogram-of-oriented-gradients/)"
   ]
  },
  {
   "cell_type": "code",
   "execution_count": 6,
   "metadata": {
    "collapsed": false
   },
   "outputs": [
    {
     "name": "stdout",
     "output_type": "stream",
     "text": [
      "HOG特征维度: (6225660, 1)\n"
     ]
    }
   ],
   "source": [
    "img = cv2.imread('./images/messi.jpg', cv2.IMREAD_GRAYSCALE)\n",
    "hog = cv2.HOGDescriptor()\n",
    "hist = hog.compute(img)\n",
    "print('HOG特征维度:', hist.shape)"
   ]
  },
  {
   "cell_type": "code",
   "execution_count": null,
   "metadata": {
    "collapsed": true
   },
   "outputs": [],
   "source": []
  }
 ],
 "metadata": {
  "anaconda-cloud": {},
  "kernelspec": {
   "display_name": "Python [py35]",
   "language": "python",
   "name": "Python [py35]"
  },
  "language_info": {
   "codemirror_mode": {
    "name": "ipython",
    "version": 3
   },
   "file_extension": ".py",
   "mimetype": "text/x-python",
   "name": "python",
   "nbconvert_exporter": "python",
   "pygments_lexer": "ipython3",
   "version": "3.5.2"
  }
 },
 "nbformat": 4,
 "nbformat_minor": 1
}
