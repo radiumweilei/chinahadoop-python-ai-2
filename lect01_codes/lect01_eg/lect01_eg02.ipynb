{
 "cells": [
  {
   "cell_type": "markdown",
   "metadata": {},
   "source": [
    "# 人工智能数学基础及NumPy"
   ]
  },
  {
   "cell_type": "markdown",
   "metadata": {},
   "source": [
    "## 1. 线性代数基础"
   ]
  },
  {
   "cell_type": "code",
   "execution_count": 1,
   "metadata": {
    "collapsed": true
   },
   "outputs": [],
   "source": [
    "import numpy as np"
   ]
  },
  {
   "cell_type": "markdown",
   "metadata": {},
   "source": [
    "### 1. 1 创建Array"
   ]
  },
  {
   "cell_type": "code",
   "execution_count": 2,
   "metadata": {
    "collapsed": false
   },
   "outputs": [
    {
     "name": "stdout",
     "output_type": "stream",
     "text": [
      "列表： [1, 2, 3]\n",
      "Array:  [1 2 3]\n"
     ]
    }
   ],
   "source": [
    "my_list = [1, 2, 3]\n",
    "x = np.array(my_list)\n",
    "\n",
    "print('列表：', my_list)\n",
    "print('Array: ', x)"
   ]
  },
  {
   "cell_type": "code",
   "execution_count": 4,
   "metadata": {
    "collapsed": false
   },
   "outputs": [
    {
     "data": {
      "text/plain": [
       "(3,)"
      ]
     },
     "execution_count": 4,
     "metadata": {},
     "output_type": "execute_result"
    }
   ],
   "source": [
    "x.shape"
   ]
  },
  {
   "cell_type": "code",
   "execution_count": 3,
   "metadata": {
    "collapsed": false
   },
   "outputs": [
    {
     "data": {
      "text/plain": [
       "array([-3, -3, -3])"
      ]
     },
     "execution_count": 3,
     "metadata": {},
     "output_type": "execute_result"
    }
   ],
   "source": [
    "np.array([1, 2, 3]) - np.array([4, 5, 6])"
   ]
  },
  {
   "cell_type": "code",
   "execution_count": 4,
   "metadata": {
    "collapsed": false
   },
   "outputs": [
    {
     "name": "stdout",
     "output_type": "stream",
     "text": [
      "[[1 2 3]\n",
      " [4 5 6]]\n",
      "shape:  (2, 3)\n"
     ]
    }
   ],
   "source": [
    "m = np.array([[1, 2, 3], [4, 5, 6]])\n",
    "print(m)\n",
    "print('shape: ', m.shape)"
   ]
  },
  {
   "cell_type": "code",
   "execution_count": 5,
   "metadata": {
    "collapsed": false
   },
   "outputs": [
    {
     "name": "stdout",
     "output_type": "stream",
     "text": [
      "[ 0  2  4  6  8 10 12 14 16 18 20 22 24 26 28]\n"
     ]
    }
   ],
   "source": [
    "n = np.arange(0, 30, 2)\n",
    "print(n)"
   ]
  },
  {
   "cell_type": "code",
   "execution_count": 6,
   "metadata": {
    "collapsed": false
   },
   "outputs": [
    {
     "name": "stdout",
     "output_type": "stream",
     "text": [
      "reshape后: \n",
      "[[ 0  2  4  6  8]\n",
      " [10 12 14 16 18]\n",
      " [20 22 24 26 28]]\n"
     ]
    }
   ],
   "source": [
    "n = n.reshape(3, 5)\n",
    "print('reshape后: ')\n",
    "print(n)"
   ]
  },
  {
   "cell_type": "code",
   "execution_count": null,
   "metadata": {
    "collapsed": true
   },
   "outputs": [],
   "source": [
    "print('ones:\\n', np.ones((3, 2)))\n",
    "print('zeros:\\n', np.zeros((3, 2)))\n",
    "print('eye:\\n', np.eye(3))\n",
    "print('diag:\\n', np.diag(my_list))"
   ]
  },
  {
   "cell_type": "code",
   "execution_count": 7,
   "metadata": {
    "collapsed": false
   },
   "outputs": [
    {
     "name": "stdout",
     "output_type": "stream",
     "text": [
      "*操作：\n",
      " [1 2 3 1 2 3 1 2 3]\n",
      "repeat：\n",
      " [1 1 1 2 2 2 3 3 3]\n"
     ]
    }
   ],
   "source": [
    "print('*操作：\\n', np.array([1, 2, 3] * 3))\n",
    "print('repeat：\\n', np.repeat([1, 2, 3], 3))"
   ]
  },
  {
   "cell_type": "code",
   "execution_count": 9,
   "metadata": {
    "collapsed": false,
    "scrolled": true
   },
   "outputs": [
    {
     "name": "stdout",
     "output_type": "stream",
     "text": [
      "纵向叠加: \n",
      " [[ 1.  1.  1.]\n",
      " [ 1.  1.  1.]\n",
      " [ 1.  1.  1.]\n",
      " [ 0.  1.  2.]\n",
      " [ 3.  4.  5.]\n",
      " [ 6.  7.  8.]]\n",
      "横向叠加: \n",
      " [[ 1.  1.  1.  0.  1.  2.]\n",
      " [ 1.  1.  1.  3.  4.  5.]\n",
      " [ 1.  1.  1.  6.  7.  8.]]\n"
     ]
    }
   ],
   "source": [
    "p1 = np.ones((3, 3))\n",
    "p2 = np.arange(9).reshape(3, 3)\n",
    "print('纵向叠加: \\n', np.vstack((p1, p2)))\n",
    "print('横向叠加: \\n', np.hstack((p1, p2)))"
   ]
  },
  {
   "cell_type": "markdown",
   "metadata": {},
   "source": [
    "### 1.2. Array操作"
   ]
  },
  {
   "cell_type": "code",
   "execution_count": 10,
   "metadata": {
    "collapsed": false
   },
   "outputs": [
    {
     "name": "stdout",
     "output_type": "stream",
     "text": [
      "p1: \n",
      " [[ 1.  1.  1.]\n",
      " [ 1.  1.  1.]\n",
      " [ 1.  1.  1.]]\n",
      "p2: \n",
      " [[0 1 2]\n",
      " [3 4 5]\n",
      " [6 7 8]]\n",
      "p1 + p2 = \n",
      " [[ 1.  2.  3.]\n",
      " [ 4.  5.  6.]\n",
      " [ 7.  8.  9.]]\n",
      "p1 * p2 = \n",
      " [[ 0.  1.  2.]\n",
      " [ 3.  4.  5.]\n",
      " [ 6.  7.  8.]]\n",
      "p2^2 = \n",
      " [[ 0  1  4]\n",
      " [ 9 16 25]\n",
      " [36 49 64]]\n",
      "p1.p2 = \n",
      " [[  9.  12.  15.]\n",
      " [  9.  12.  15.]\n",
      " [  9.  12.  15.]]\n"
     ]
    }
   ],
   "source": [
    "print('p1: \\n', p1)\n",
    "print('p2: \\n', p2)\n",
    "\n",
    "print('p1 + p2 = \\n', p1 + p2)\n",
    "print('p1 * p2 = \\n', p1 * p2)\n",
    "print('p2^2 = \\n', p2 ** 2)\n",
    "print('p1.p2 = \\n', p1.dot(p2))"
   ]
  },
  {
   "cell_type": "code",
   "execution_count": 11,
   "metadata": {
    "collapsed": false
   },
   "outputs": [
    {
     "name": "stdout",
     "output_type": "stream",
     "text": [
      "p3形状:  (2, 3)\n",
      "[[0 1 2]\n",
      " [3 4 5]]\n",
      "转置后p3形状:  (3, 2)\n",
      "[[0 3]\n",
      " [1 4]\n",
      " [2 5]]\n"
     ]
    }
   ],
   "source": [
    "p3 = np.arange(6).reshape(2, 3)\n",
    "print('p3形状: ', p3.shape)\n",
    "print(p3)\n",
    "p4 = p3.T\n",
    "print('转置后p3形状: ', p4.shape)\n",
    "print(p4)"
   ]
  },
  {
   "cell_type": "code",
   "execution_count": null,
   "metadata": {
    "collapsed": true
   },
   "outputs": [],
   "source": [
    "print('p3数据类型:', p3.dtype)\n",
    "print(p3)\n",
    "\n",
    "p5 = p3.astype('float')\n",
    "print('p5数据类型:', p5.dtype)\n",
    "print(p5)"
   ]
  },
  {
   "cell_type": "code",
   "execution_count": null,
   "metadata": {
    "collapsed": true
   },
   "outputs": [],
   "source": [
    "a = np.array([-4, -2, 1, 3, 5])\n",
    "print('sum: ', a.sum())\n",
    "print('min: ', a.min())\n",
    "print('max: ', a.max())\n",
    "print('mean: ', a.mean())\n",
    "print('std: ', a.std())\n",
    "print('argmax: ', a.argmax())\n",
    "print('argmin: ', a.argmin())"
   ]
  },
  {
   "cell_type": "markdown",
   "metadata": {},
   "source": [
    "### 1.3. 索引与切片"
   ]
  },
  {
   "cell_type": "code",
   "execution_count": null,
   "metadata": {
    "collapsed": true
   },
   "outputs": [],
   "source": [
    "# 一维array\n",
    "s = np.arange(13) ** 2\n",
    "print('s: ', s)\n",
    "print('s[0]: ', s[0])\n",
    "print('s[4]: ', s[4])\n",
    "print('s[0:3]: ', s[0:3])\n",
    "print('s[[0, 2, 4]]: ', s[[0, 2, 4]])"
   ]
  },
  {
   "cell_type": "code",
   "execution_count": 5,
   "metadata": {
    "collapsed": false
   },
   "outputs": [
    {
     "name": "stdout",
     "output_type": "stream",
     "text": [
      "r: \n",
      " [[ 0  1  2  3  4  5]\n",
      " [ 6  7  8  9 10 11]\n",
      " [12 13 14 15 16 17]\n",
      " [18 19 20 21 22 23]\n",
      " [24 25 26 27 28 29]\n",
      " [30 31 32 33 34 35]]\n",
      "r[2, 2]: \n",
      " 14\n",
      "r[3, 3:6]: \n",
      " [21 22 23]\n"
     ]
    }
   ],
   "source": [
    "# 二维array\n",
    "r = np.arange(36).reshape((6, 6))\n",
    "print('r: \\n', r)\n",
    "print('r[2, 2]: \\n', r[2, 2])\n",
    "print('r[3, 3:6]: \\n', r[3, 3:6])"
   ]
  },
  {
   "cell_type": "code",
   "execution_count": 13,
   "metadata": {
    "collapsed": false
   },
   "outputs": [
    {
     "data": {
      "text/plain": [
       "array([[False, False, False, False, False, False],\n",
       "       [False, False, False, False, False, False],\n",
       "       [False, False, False, False, False, False],\n",
       "       [False, False, False, False, False, False],\n",
       "       [False, False, False, False, False, False],\n",
       "       [False,  True,  True,  True,  True,  True]], dtype=bool)"
      ]
     },
     "execution_count": 13,
     "metadata": {},
     "output_type": "execute_result"
    }
   ],
   "source": [
    "r > 30"
   ]
  },
  {
   "cell_type": "code",
   "execution_count": 15,
   "metadata": {
    "collapsed": false
   },
   "outputs": [
    {
     "name": "stdout",
     "output_type": "stream",
     "text": [
      "[31 32 33 34 35]\n",
      "[[ 0  1  2  3  4  5]\n",
      " [ 6  7  8  9 10 11]\n",
      " [12 13 14 15 16 17]\n",
      " [18 19 20 21 22 23]\n",
      " [24 25 26 27 28 29]\n",
      " [30 30 30 30 30 30]]\n"
     ]
    }
   ],
   "source": [
    "# 过滤\n",
    "print(r[r > 30])\n",
    "\n",
    "# 将大于30的数赋值为30\n",
    "r[r > 30] = 30\n",
    "print(r)"
   ]
  },
  {
   "cell_type": "code",
   "execution_count": 16,
   "metadata": {
    "collapsed": false
   },
   "outputs": [
    {
     "name": "stdout",
     "output_type": "stream",
     "text": [
      "[[ 0  1  2]\n",
      " [ 6  7  8]\n",
      " [12 13 14]]\n"
     ]
    }
   ],
   "source": [
    "# copy()操作\n",
    "r2 = r[:3, :3]\n",
    "print(r2)"
   ]
  },
  {
   "cell_type": "code",
   "execution_count": 17,
   "metadata": {
    "collapsed": false
   },
   "outputs": [
    {
     "name": "stdout",
     "output_type": "stream",
     "text": [
      "[[ 0  0  0  3  4  5]\n",
      " [ 0  0  0  9 10 11]\n",
      " [ 0  0  0 15 16 17]\n",
      " [18 19 20 21 22 23]\n",
      " [24 25 26 27 28 29]\n",
      " [30 30 30 30 30 30]]\n"
     ]
    }
   ],
   "source": [
    "# 将r2内容设置为0\n",
    "r2[:] = 0\n",
    "\n",
    "# 查看r的内容\n",
    "print(r)"
   ]
  },
  {
   "cell_type": "code",
   "execution_count": 18,
   "metadata": {
    "collapsed": false
   },
   "outputs": [
    {
     "name": "stdout",
     "output_type": "stream",
     "text": [
      "[[ 0  0  0  3  4  5]\n",
      " [ 0  0  0  9 10 11]\n",
      " [ 0  0  0 15 16 17]\n",
      " [18 19 20 21 22 23]\n",
      " [24 25 26 27 28 29]\n",
      " [30 30 30 30 30 30]]\n"
     ]
    }
   ],
   "source": [
    "r3 = r.copy()\n",
    "r3[:] = 0\n",
    "print(r)"
   ]
  },
  {
   "cell_type": "markdown",
   "metadata": {},
   "source": [
    "### 1.4. 遍历 Array"
   ]
  },
  {
   "cell_type": "code",
   "execution_count": 6,
   "metadata": {
    "collapsed": false
   },
   "outputs": [
    {
     "name": "stdout",
     "output_type": "stream",
     "text": [
      "[[4 2 2]\n",
      " [8 7 6]\n",
      " [5 3 0]\n",
      " [7 9 3]]\n"
     ]
    }
   ],
   "source": [
    "t = np.random.randint(0, 10, (4, 3))\n",
    "print(t)"
   ]
  },
  {
   "cell_type": "code",
   "execution_count": null,
   "metadata": {
    "collapsed": true
   },
   "outputs": [],
   "source": [
    "for row in t:\n",
    "    print(row)"
   ]
  },
  {
   "cell_type": "code",
   "execution_count": 7,
   "metadata": {
    "collapsed": false
   },
   "outputs": [
    {
     "name": "stdout",
     "output_type": "stream",
     "text": [
      "row 0 is [4 2 2]\n",
      "row 1 is [8 7 6]\n",
      "row 2 is [5 3 0]\n",
      "row 3 is [7 9 3]\n"
     ]
    }
   ],
   "source": [
    "# 使用enumerate()\n",
    "for i, row in enumerate(t):\n",
    "    print('row {} is {}'.format(i, row))"
   ]
  },
  {
   "cell_type": "code",
   "execution_count": 8,
   "metadata": {
    "collapsed": false
   },
   "outputs": [
    {
     "name": "stdout",
     "output_type": "stream",
     "text": [
      "[[16  4  4]\n",
      " [64 49 36]\n",
      " [25  9  0]\n",
      " [49 81  9]]\n"
     ]
    }
   ],
   "source": [
    "t2 = t ** 2\n",
    "print(t2)"
   ]
  },
  {
   "cell_type": "code",
   "execution_count": null,
   "metadata": {
    "collapsed": true
   },
   "outputs": [],
   "source": [
    "# 使用zip对两个array进行遍历计算\n",
    "for i, j in zip(t, t2):\n",
    "    print('{} + {} = {}'.format(i, j, i + j))"
   ]
  },
  {
   "cell_type": "code",
   "execution_count": 15,
   "metadata": {
    "collapsed": true
   },
   "outputs": [],
   "source": [
    "x = np.array([1, 2, 3])"
   ]
  },
  {
   "cell_type": "code",
   "execution_count": 16,
   "metadata": {
    "collapsed": false
   },
   "outputs": [
    {
     "data": {
      "text/plain": [
       "array([1, 2, 3])"
      ]
     },
     "execution_count": 16,
     "metadata": {},
     "output_type": "execute_result"
    }
   ],
   "source": [
    "x = np.zeros(10)"
   ]
  },
  {
   "cell_type": "code",
   "execution_count": 17,
   "metadata": {
    "collapsed": false
   },
   "outputs": [
    {
     "data": {
      "text/plain": [
       "1"
      ]
     },
     "execution_count": 17,
     "metadata": {},
     "output_type": "execute_result"
    }
   ],
   "source": [
    "x.ndim"
   ]
  },
  {
   "cell_type": "code",
   "execution_count": 18,
   "metadata": {
    "collapsed": false
   },
   "outputs": [
    {
     "data": {
      "text/plain": [
       "(3,)"
      ]
     },
     "execution_count": 18,
     "metadata": {},
     "output_type": "execute_result"
    }
   ],
   "source": [
    "x.shape"
   ]
  },
  {
   "cell_type": "code",
   "execution_count": 19,
   "metadata": {
    "collapsed": false
   },
   "outputs": [
    {
     "data": {
      "text/plain": [
       "array([1, 2, 3])"
      ]
     },
     "execution_count": 19,
     "metadata": {},
     "output_type": "execute_result"
    }
   ],
   "source": [
    "x.transpose()"
   ]
  },
  {
   "cell_type": "code",
   "execution_count": 20,
   "metadata": {
    "collapsed": false
   },
   "outputs": [
    {
     "data": {
      "text/plain": [
       "array([1, 2, 3])"
      ]
     },
     "execution_count": 20,
     "metadata": {},
     "output_type": "execute_result"
    }
   ],
   "source": [
    "x.transpose()"
   ]
  },
  {
   "cell_type": "code",
   "execution_count": null,
   "metadata": {
    "collapsed": true
   },
   "outputs": [],
   "source": [
    "100, 300\n",
    "x.reshape(-1, 2)"
   ]
  },
  {
   "cell_type": "markdown",
   "metadata": {},
   "source": [
    "## 2. 常见概率分布"
   ]
  },
  {
   "cell_type": "code",
   "execution_count": 1,
   "metadata": {
    "collapsed": true
   },
   "outputs": [],
   "source": [
    "import scipy.stats as stats\n",
    "import numpy as np\n",
    "import matplotlib.pyplot as plt"
   ]
  },
  {
   "cell_type": "markdown",
   "metadata": {},
   "source": [
    "### 2.1 伯努利分布（Bernoulli distribution）"
   ]
  },
  {
   "cell_type": "markdown",
   "metadata": {},
   "source": [
    "伯努利分布亦称“零一分布”、“两点分布”，即事件的结果只有两个值，且事件之间相互独立，例如抛一次硬币就为一次伯努利试验，结果要么为正面要么为反面，因此它符合伯努利分布。伯努利试验只做一次。"
   ]
  },
  {
   "cell_type": "code",
   "execution_count": 18,
   "metadata": {
    "collapsed": false
   },
   "outputs": [
    {
     "data": {
      "image/png": "[encoded data removed]",
      "text/plain": [
       "<matplotlib.figure.Figure at 0x1a828240>"
      ]
     },
     "metadata": {},
     "output_type": "display_data"
    }
   ],
   "source": [
    "#定义随机变量\n",
    "X_arr = np.array([0, 1]) \n",
    "\n",
    "# X为1的概率\n",
    "p = 0.7\n",
    "\n",
    "# 由PMF生成对应的概率\n",
    "pr_arr = stats.bernoulli.pmf(X, p)\n",
    "\n",
    "plt.plot(X_arr, pr_arr, marker = 'o', linestyle = 'None' )\n",
    "plt.vlines(X_arr, 0, pr_arr)\n",
    "plt.xlabel('Events')\n",
    "plt.ylabel('Probability')\n",
    "plt.title('Bernoulli Distribution (p={:.2f})'.format(p))\n",
    "plt.show()"
   ]
  },
  {
   "cell_type": "markdown",
   "metadata": {},
   "source": [
    "### 2.2 二项分布（Binomial Distribution）"
   ]
  },
  {
   "cell_type": "markdown",
   "metadata": {},
   "source": [
    "二项分布就是重复n次独立的伯努利试验。在每次试验中只有两种可能的结果，而且事件相互独立，事件发生与否的概率在每一次独立试验中都保持不变。当试验次数为1时，二项分布服从0-1分布。它计算的结果是做n次试验发生某个结果的概率，例如：抛一次硬币正面朝上的概率，抛两次正面朝上，抛n次正面朝上的概率。"
   ]
  },
  {
   "cell_type": "code",
   "execution_count": 19,
   "metadata": {
    "collapsed": false
   },
   "outputs": [
    {
     "data": {
      "image/png": "[encoded data removed]",
      "text/plain": [
       "<matplotlib.figure.Figure at 0x1a79ff60>"
      ]
     },
     "metadata": {},
     "output_type": "display_data"
    }
   ],
   "source": [
    "#抛10次硬币正面朝上的概率\n",
    "\n",
    "#定义随机变量\n",
    "# 实验次数\n",
    "n = 10\n",
    "# 事件发生的概率\n",
    "p = 0.5\n",
    "x_arr = np.arange(0, n + 1, 1)\n",
    "pr_arr = stats.binom.pmf(x_arr, n, p)\n",
    "\n",
    "plt.plot(x_arr, pr_arr, marker='o', linestyle='None')\n",
    "plt.vlines(x_arr, 0, pr_arr)\n",
    "plt.xlabel('Events')\n",
    "plt.ylabel('Probability')\n",
    "plt.title('Binomial Distribution (n={}, p={:.2f})'.format(n, p))\n",
    "plt.show()"
   ]
  },
  {
   "cell_type": "markdown",
   "metadata": {},
   "source": [
    "### 2.3 泊松分布（Poisson distribution）"
   ]
  },
  {
   "cell_type": "markdown",
   "metadata": {},
   "source": [
    "泊松分布描述已知一段时间内事件发生的平均数，求某个时间内发生的概率。如某一服务设施在一定时间内到达的人数，电话交换机接到呼叫的次数，汽车站台的候客人数，机器出现的故障数，自然灾害发生的次数，一块产品上的缺陷数等。"
   ]
  },
  {
   "cell_type": "code",
   "execution_count": 23,
   "metadata": {
    "collapsed": false
   },
   "outputs": [
    {
     "data": {
      "image/png": "[encoded data removed]",
      "text/plain": [
       "<matplotlib.figure.Figure at 0x1a877e48>"
      ]
     },
     "metadata": {},
     "output_type": "display_data"
    }
   ],
   "source": [
    "#某路口发生K次交通事故的概率，已知平均发生的次数为2\n",
    "#定义随机变量\n",
    "mu = 2\n",
    "k = 4\n",
    "x_arr = np.arange(0, k+1, 1)\n",
    "pr_arr = stats.poisson.pmf(x_arr, mu)\n",
    "\n",
    "plt.plot(x_arr, pr_arr, marker='o',linestyle='None')\n",
    "plt.vlines(x_arr, 0, pr_arr)\n",
    "plt.xlabel('Events')\n",
    "plt.ylabel('Probability')\n",
    "plt.title('Poisson Distribution (lambda={})'.format(mu))\n",
    "plt.show()"
   ]
  },
  {
   "cell_type": "markdown",
   "metadata": {},
   "source": [
    "### 2.4 高斯分布（Gaussian distribution）"
   ]
  },
  {
   "cell_type": "markdown",
   "metadata": {},
   "source": [
    "正态曲线呈钟型，两头低，中间高，左右对称。若随机变量X服从一个数学期望为μ、方差为σ^2的正态分布，记为N(μ，σ^2)。其概率密度函数为正态分布的期望值μ决定了其位置，其标准差σ决定了分布的幅度。当μ = 0,σ = 1时的正态分布是标准正态分布。"
   ]
  },
  {
   "cell_type": "code",
   "execution_count": 25,
   "metadata": {
    "collapsed": false
   },
   "outputs": [
    {
     "data": {
      "image/png": "[encoded data removed]",
      "text/plain": [
       "<matplotlib.figure.Figure at 0x1a6119b0>"
      ]
     },
     "metadata": {},
     "output_type": "display_data"
    }
   ],
   "source": [
    "mu = 0 #平均值\n",
    "sigma = 1 #标准差\n",
    "x_arr = np.arange(-5, 5, 0.1)\n",
    "\n",
    "#概率密度函数\n",
    "y_arr = stats.norm.pdf(x_arr, mu, sigma)\n",
    "\n",
    "plt.plot(x_arr, y_arr)\n",
    "plt.xlabel('x')\n",
    "plt.ylabel('y')\n",
    "plt.title('Gaussian Distribution ($\\mu$={:.1f}, $\\sigma^2$={:.1f})'.format(mu,sigma))\n",
    "plt.grid()\n",
    "plt.show()"
   ]
  },
  {
   "cell_type": "markdown",
   "metadata": {},
   "source": [
    "## 3. 协方差及相关系数"
   ]
  },
  {
   "cell_type": "code",
   "execution_count": 27,
   "metadata": {
    "collapsed": false
   },
   "outputs": [
    {
     "data": {
      "image/png": "[encoded data removed]",
      "text/plain": [
       "<matplotlib.figure.Figure at 0x1a5972b0>"
      ]
     },
     "metadata": {},
     "output_type": "display_data"
    }
   ],
   "source": [
    "# 温度（单位：摄氏度）\n",
    "temp_list = [14.2, 16.4, 11.9, 15.2, 18.5, 22.1, 19.4, 25.1, 23.4, 18.1, 22.6, 17.2]\n",
    "\n",
    "# 冰激凌销量（单位：元）\n",
    "sale_list = [215, 325, 185, 332, 406, 522, 412, 614, 544, 421, 445, 408]\n",
    "\n",
    "plt.scatter(temp_list, sale_list)\n",
    "plt.xlabel('Temperature')\n",
    "plt.ylabel('Sales')\n",
    "plt.grid()\n",
    "plt.show()"
   ]
  },
  {
   "cell_type": "code",
   "execution_count": 33,
   "metadata": {
    "collapsed": false
   },
   "outputs": [
    {
     "name": "stdout",
     "output_type": "stream",
     "text": [
      "协方差： 484.09318181818196\n"
     ]
    }
   ],
   "source": [
    "cov_matrix = np.cov(temp_list, sale_list)\n",
    "print('协方差：', cov_matrix[0, 1])"
   ]
  },
  {
   "cell_type": "code",
   "execution_count": 35,
   "metadata": {
    "collapsed": false
   },
   "outputs": [
    {
     "name": "stdout",
     "output_type": "stream",
     "text": [
      "相关系数： 0.9575066230015952\n"
     ]
    }
   ],
   "source": [
    "corr_matrix = np.corrcoef(temp_list, sale_list)\n",
    "print('相关系数：', corr_matrix[0, 1])"
   ]
  },
  {
   "cell_type": "code",
   "execution_count": null,
   "metadata": {
    "collapsed": true
   },
   "outputs": [],
   "source": []
  }
 ],
 "metadata": {
  "anaconda-cloud": {},
  "kernelspec": {
   "display_name": "Python [py35]",
   "language": "python",
   "name": "Python [py35]"
  },
  "language_info": {
   "codemirror_mode": {
    "name": "ipython",
    "version": 3
   },
   "file_extension": ".py",
   "mimetype": "text/x-python",
   "name": "python",
   "nbconvert_exporter": "python",
   "pygments_lexer": "ipython3",
   "version": "3.5.2"
  }
 },
 "nbformat": 4,
 "nbformat_minor": 2
}
